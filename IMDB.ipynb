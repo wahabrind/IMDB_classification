{
 "cells": [
  {
   "cell_type": "code",
   "execution_count": 29,
   "metadata": {},
   "outputs": [],
   "source": [
    "from tensorflow.keras.datasets import imdb\n",
    "(train_data, train_labels), (test_data, test_labels) = imdb.load_data(num_words=10000)"
   ]
  },
  {
   "cell_type": "code",
   "execution_count": 30,
   "metadata": {},
   "outputs": [],
   "source": [
    "#assigning each record a label of 0 and 1 out of 10000 labels\n",
    "\n",
    "import numpy as np\n",
    "def vectorize_sequences(sequences, dimension=10000):\n",
    "    results = np.zeros((len(sequences), dimension))\n",
    "    for i, sequence in enumerate(sequences):\n",
    "        results[i, sequence] = 1.\n",
    "    return results\n",
    "x_train = vectorize_sequences(train_data)\n",
    "x_test = vectorize_sequences(test_data)"
   ]
  },
  {
   "cell_type": "code",
   "execution_count": 41,
   "metadata": {},
   "outputs": [
    {
     "name": "stdout",
     "output_type": "stream",
     "text": [
      "Train on 25000 samples, validate on 25000 samples\n",
      "Epoch 1/10\n",
      "25000/25000 [==============================] - 7s 277us/sample - loss: 0.3553 - acc: 0.8568 - val_loss: 0.2901 - val_acc: 0.8824\n",
      "Epoch 2/10\n",
      "25000/25000 [==============================] - 6s 248us/sample - loss: 0.1904 - acc: 0.9288 - val_loss: 0.3416 - val_acc: 0.8678\n",
      "Epoch 3/10\n",
      "25000/25000 [==============================] - 6s 253us/sample - loss: 0.1419 - acc: 0.9480 - val_loss: 0.3664 - val_acc: 0.8666\n",
      "Epoch 4/10\n",
      "25000/25000 [==============================] - 7s 271us/sample - loss: 0.1111 - acc: 0.9594 - val_loss: 0.4121 - val_acc: 0.8636\n",
      "Epoch 5/10\n",
      "25000/25000 [==============================] - 6s 251us/sample - loss: 0.0797 - acc: 0.9715 - val_loss: 0.5112 - val_acc: 0.8555\n",
      "Epoch 6/10\n",
      "25000/25000 [==============================] - 7s 277us/sample - loss: 0.0557 - acc: 0.9818 - val_loss: 0.5565 - val_acc: 0.8583s - loss: 0.0542 - acc: 0\n",
      "Epoch 7/10\n",
      "25000/25000 [==============================] - 7s 260us/sample - loss: 0.0378 - acc: 0.9881 - val_loss: 0.6589 - val_acc: 0.8521\n",
      "Epoch 8/10\n",
      "25000/25000 [==============================] - 6s 246us/sample - loss: 0.0212 - acc: 0.9947 - val_loss: 0.7062 - val_acc: 0.8532\n",
      "Epoch 9/10\n",
      "25000/25000 [==============================] - 6s 247us/sample - loss: 0.0130 - acc: 0.9976 - val_loss: 0.8345 - val_acc: 0.8503\n",
      "Epoch 10/10\n",
      "25000/25000 [==============================] - 6s 247us/sample - loss: 0.0086 - acc: 0.9982 - val_loss: 0.9235 - val_acc: 0.8521\n"
     ]
    },
    {
     "data": {
      "text/plain": [
       "<tensorflow.python.keras.callbacks.History at 0x25908f05198>"
      ]
     },
     "execution_count": 41,
     "metadata": {},
     "output_type": "execute_result"
    }
   ],
   "source": [
    "from tensorflow.keras import models\n",
    "from tensorflow.keras import layers\n",
    "\n",
    "model = models.Sequential()\n",
    "model.add(layers.Dense(16, activation='relu', input_shape=(10000,)))\n",
    "model.add(layers.Dense(32, activation='relu'))\n",
    "model.add(layers.Dense(1, activation='sigmoid'))\n",
    "\n",
    "model.compile(optimizer=\"adam\", loss=\"binary_crossentropy\",metrics=['acc'])\n",
    "model.fit(x_train,train_labels,batch_size=128,epochs=10 , validation_data=(x_test,test_labels))"
   ]
  },
  {
   "cell_type": "code",
   "execution_count": 43,
   "metadata": {},
   "outputs": [
    {
     "name": "stdout",
     "output_type": "stream",
     "text": [
      "25000/25000 [==============================] - 4s 142us/sample - loss: 0.9235 - acc: 0.8521\n"
     ]
    },
    {
     "data": {
      "text/plain": [
       "<tensorflow.python.keras.callbacks.History at 0x25908f05198>"
      ]
     },
     "execution_count": 43,
     "metadata": {},
     "output_type": "execute_result"
    }
   ],
   "source": [
    "y_pred=model.predict_classes(x_test)\n",
    "model.evaluate(x_test,test_labels)"
   ]
  },
  {
   "cell_type": "code",
   "execution_count": null,
   "metadata": {},
   "outputs": [],
   "source": []
  }
 ],
 "metadata": {
  "kernelspec": {
   "display_name": "Python 3",
   "language": "python",
   "name": "python3"
  },
  "language_info": {
   "codemirror_mode": {
    "name": "ipython",
    "version": 3
   },
   "file_extension": ".py",
   "mimetype": "text/x-python",
   "name": "python",
   "nbconvert_exporter": "python",
   "pygments_lexer": "ipython3",
   "version": "3.7.1"
  }
 },
 "nbformat": 4,
 "nbformat_minor": 2
}
